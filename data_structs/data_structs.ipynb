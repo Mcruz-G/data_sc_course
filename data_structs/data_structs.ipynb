{
 "cells": [
  {
   "attachments": {},
   "cell_type": "markdown",
   "metadata": {},
   "source": [
    "# Exercise 1: Lists\n",
    "\n",
    "In Python, a list is a collection which is ordered and changeable. It allows duplicate members. Let's start by creating a list of products sold by the company. Each product should be represented by a dictionary, containing `name`, `price`, and `category`.\n"
   ]
  },
  {
   "cell_type": "code",
   "execution_count": null,
   "metadata": {},
   "outputs": [],
   "source": [
    "products = [\n",
    "    # TODO: Fill in with product details\n",
    "]\n"
   ]
  },
  {
   "attachments": {},
   "cell_type": "markdown",
   "metadata": {},
   "source": [
    "# Exercise 2: Accessing and Modifying Lists\n",
    "\n",
    "Lists are mutable. This means we can change an item's value, add new items, and delete or remove items as needed. Try adding a new product to the list, then find and modify the price of an existing product.\n"
   ]
  },
  {
   "cell_type": "code",
   "execution_count": null,
   "metadata": {},
   "outputs": [],
   "source": [
    "# TODO: Add a new product\n",
    "# TODO: Modify the price of an existing product\n"
   ]
  },
  {
   "cell_type": "markdown",
   "metadata": {},
   "source": [
    "# Exercise 3: List Comprehensions\n",
    "\n",
    "List comprehensions provide a concise way to create lists based on existing lists. Use a list comprehension to create a list of all products in a certain category.\n"
   ]
  },
  {
   "cell_type": "code",
   "execution_count": null,
   "metadata": {},
   "outputs": [],
   "source": [
    "# TODO: Create a list of products in a certain category\n"
   ]
  },
  {
   "attachments": {},
   "cell_type": "markdown",
   "metadata": {},
   "source": [
    "# Exercise 4: Dictionaries\n",
    "\n",
    "A dictionary is a collection which is unordered, changeable and indexed. In Python dictionaries are written with curly brackets, and they have keys and values. Represent a customer as a dictionary with `name`, `email`, and `purchase_history` (a list of products).\n"
   ]
  },
  {
   "cell_type": "code",
   "execution_count": null,
   "metadata": {},
   "outputs": [],
   "source": [
    "customer = {\n",
    "    # TODO: Fill in with customer details and purchase history\n",
    "}\n"
   ]
  },
  {
   "attachments": {},
   "cell_type": "markdown",
   "metadata": {},
   "source": [
    "# Exercise 5: Accessing and Modifying Dictionaries\n",
    "\n",
    "Dictionaries are also mutable. You can add new items or change the value of existing items using an assignment operator. If the key is already present, then the existing value gets updated. In case the key is not present, a new (key: value) pair is added to the dictionary. Add a new purchase to a customer's purchase history, then retrieve a list of all products purchased by the customer.\n"
   ]
  },
  {
   "cell_type": "code",
   "execution_count": null,
   "metadata": {},
   "outputs": [],
   "source": [
    "# TODO: Add a new purchase\n",
    "# TODO: Retrieve purchase history\n"
   ]
  },
  {
   "cell_type": "markdown",
   "metadata": {},
   "source": [
    "# Exercise 6: Sets\n",
    "\n",
    "A set is an unordered collection of items where every element is unique (no duplicates). Given two customers, find out which products both have purchased (the intersection of their purchase histories).\n"
   ]
  },
  {
   "cell_type": "code",
   "execution_count": null,
   "metadata": {},
   "outputs": [],
   "source": [
    "# TODO: Find the intersection of two customers' purchase histories\n"
   ]
  },
  {
   "cell_type": "markdown",
   "metadata": {},
   "source": [
    "# Exercise 7: Tuples\n",
    "\n",
    "A Tuple is a collection of Python objects separated by commas. In someways a tuple is similar to a list in terms of indexing, nested objects and repetition but a tuple is immutable unlike lists which are mutable. Represent a transaction as a tuple with `customer`, `product`, and `timestamp`.\n"
   ]
  },
  {
   "cell_type": "code",
   "execution_count": null,
   "metadata": {},
   "outputs": [],
   "source": [
    "# TODO: Represent a transaction\n"
   ]
  },
  {
   "attachments": {},
   "cell_type": "markdown",
   "metadata": {},
   "source": [
    "# Exercise 8: Nested Data Structures\n",
    "\n",
    "In Python, these complex data structures can be nested. This means we can have data structures within data structures. Create a dictionary that maps product categories to lists of products in that category.\n"
   ]
  },
  {
   "cell_type": "code",
   "execution_count": null,
   "metadata": {},
   "outputs": [],
   "source": [
    "# TODO: Create a category dictionary\n"
   ]
  },
  {
   "cell_type": "markdown",
   "metadata": {},
   "source": [
    "# Exercise 9: Custom Data Structures (Classes)\n",
    "\n",
    "Python is an object oriented programming language. This means it uses classes to group related data and functions together. Create a `Product` class with `name`, `price`, and `category` as attributes, and a `Customer` class with `name`, `email`, and `purchase_history` as attributes. Implement a method for the `Customer` class to purchase a product.\n"
   ]
  },
  {
   "cell_type": "code",
   "execution_count": null,
   "metadata": {},
   "outputs": [],
   "source": [
    "class Product():\n",
    "    pass\n",
    "    # TODO: Implement the Product class\n",
    "\n",
    "\n",
    "class Customer():\n",
    "    pass\n",
    "    # TODO: Implement the Customer class\n",
    "\n",
    "# TODO: Create some objects and make a purchase\n"
   ]
  },
  {
   "attachments": {},
   "cell_type": "markdown",
   "metadata": {},
   "source": [
    "# Exercise 10: Advanced Functionality\n",
    "\n",
    "In Python, a function is a group of related statements that perform a specific task. Functions help break our program into smaller and modular chunks. Implement a function that, given a customer, returns the total amount they have spent.\n"
   ]
  },
  {
   "cell_type": "code",
   "execution_count": 2,
   "metadata": {},
   "outputs": [],
   "source": [
    "# TODO: Implement the function\n"
   ]
  }
 ],
 "metadata": {
  "kernelspec": {
   "display_name": "Python 3",
   "language": "python",
   "name": "python3"
  },
  "language_info": {
   "codemirror_mode": {
    "name": "ipython",
    "version": 3
   },
   "file_extension": ".py",
   "mimetype": "text/x-python",
   "name": "python",
   "nbconvert_exporter": "python",
   "pygments_lexer": "ipython3",
   "version": "3.9.5"
  },
  "orig_nbformat": 4,
  "vscode": {
   "interpreter": {
    "hash": "f9f85f796d01129d0dd105a088854619f454435301f6ffec2fea96ecbd9be4ac"
   }
  }
 },
 "nbformat": 4,
 "nbformat_minor": 2
}
