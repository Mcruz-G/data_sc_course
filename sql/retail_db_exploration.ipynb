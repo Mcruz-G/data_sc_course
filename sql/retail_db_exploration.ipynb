{
 "cells": [
  {
   "cell_type": "code",
   "execution_count": 1,
   "metadata": {},
   "outputs": [],
   "source": [
    "%load_ext sql\n"
   ]
  },
  {
   "cell_type": "code",
   "execution_count": 2,
   "metadata": {},
   "outputs": [],
   "source": [
    "%sql sqlite:///Retail.db"
   ]
  },
  {
   "cell_type": "code",
   "execution_count": 4,
   "metadata": {},
   "outputs": [
    {
     "name": "stdout",
     "output_type": "stream",
     "text": [
      " * sqlite:///Retail.db\n",
      "Done.\n"
     ]
    },
    {
     "data": {
      "text/html": [
       "<table>\n",
       "    <thead>\n",
       "        <tr>\n",
       "            <th>id</th>\n",
       "            <th>name</th>\n",
       "            <th>category</th>\n",
       "            <th>price</th>\n",
       "        </tr>\n",
       "    </thead>\n",
       "    <tbody>\n",
       "        <tr>\n",
       "            <td>1</td>\n",
       "            <td>drive frictionless e-tailers</td>\n",
       "            <td>Groceries</td>\n",
       "            <td>40.93</td>\n",
       "        </tr>\n",
       "        <tr>\n",
       "            <td>2</td>\n",
       "            <td>implement integrated vortals</td>\n",
       "            <td>Toys</td>\n",
       "            <td>182.63</td>\n",
       "        </tr>\n",
       "        <tr>\n",
       "            <td>3</td>\n",
       "            <td>re-intermediate real-time e-commerce</td>\n",
       "            <td>Electronics</td>\n",
       "            <td>12.97</td>\n",
       "        </tr>\n",
       "        <tr>\n",
       "            <td>4</td>\n",
       "            <td>evolve intuitive experiences</td>\n",
       "            <td>Health</td>\n",
       "            <td>168.1</td>\n",
       "        </tr>\n",
       "        <tr>\n",
       "            <td>5</td>\n",
       "            <td>expedite frictionless functionalities</td>\n",
       "            <td>Fashion</td>\n",
       "            <td>53.86</td>\n",
       "        </tr>\n",
       "        <tr>\n",
       "            <td>6</td>\n",
       "            <td>synthesize world-class info-mediaries</td>\n",
       "            <td>Health</td>\n",
       "            <td>139.24</td>\n",
       "        </tr>\n",
       "        <tr>\n",
       "            <td>7</td>\n",
       "            <td>brand 24/7 methodologies</td>\n",
       "            <td>Fashion</td>\n",
       "            <td>176.33</td>\n",
       "        </tr>\n",
       "        <tr>\n",
       "            <td>8</td>\n",
       "            <td>matrix out-of-the-box paradigms</td>\n",
       "            <td>Kitchen</td>\n",
       "            <td>158.75</td>\n",
       "        </tr>\n",
       "        <tr>\n",
       "            <td>9</td>\n",
       "            <td>streamline user-centric platforms</td>\n",
       "            <td>Books</td>\n",
       "            <td>199.69</td>\n",
       "        </tr>\n",
       "        <tr>\n",
       "            <td>10</td>\n",
       "            <td>repurpose clicks-and-mortar eyeballs</td>\n",
       "            <td>Tools</td>\n",
       "            <td>184.92</td>\n",
       "        </tr>\n",
       "    </tbody>\n",
       "</table>"
      ],
      "text/plain": [
       "[(1, 'drive frictionless e-tailers', 'Groceries', 40.93),\n",
       " (2, 'implement integrated vortals', 'Toys', 182.63),\n",
       " (3, 're-intermediate real-time e-commerce', 'Electronics', 12.97),\n",
       " (4, 'evolve intuitive experiences', 'Health', 168.1),\n",
       " (5, 'expedite frictionless functionalities', 'Fashion', 53.86),\n",
       " (6, 'synthesize world-class info-mediaries', 'Health', 139.24),\n",
       " (7, 'brand 24/7 methodologies', 'Fashion', 176.33),\n",
       " (8, 'matrix out-of-the-box paradigms', 'Kitchen', 158.75),\n",
       " (9, 'streamline user-centric platforms', 'Books', 199.69),\n",
       " (10, 'repurpose clicks-and-mortar eyeballs', 'Tools', 184.92)]"
      ]
     },
     "execution_count": 4,
     "metadata": {},
     "output_type": "execute_result"
    }
   ],
   "source": [
    "%sql SELECT * FROM products limit 10"
   ]
  },
  {
   "cell_type": "code",
   "execution_count": 12,
   "metadata": {},
   "outputs": [
    {
     "name": "stdout",
     "output_type": "stream",
     "text": [
      " * sqlite:///Retail.db\n",
      "Done.\n"
     ]
    },
    {
     "data": {
      "text/html": [
       "<table>\n",
       "    <thead>\n",
       "        <tr>\n",
       "            <th>sale_date</th>\n",
       "            <th>Revenue</th>\n",
       "        </tr>\n",
       "    </thead>\n",
       "    <tbody>\n",
       "        <tr>\n",
       "            <td>2020-04-28</td>\n",
       "            <td>4991.919999999999</td>\n",
       "        </tr>\n",
       "    </tbody>\n",
       "</table>"
      ],
      "text/plain": [
       "[('2020-04-28', 4991.919999999999)]"
      ]
     },
     "execution_count": 12,
     "metadata": {},
     "output_type": "execute_result"
    }
   ],
   "source": [
    "%sql SELECT sales.sale_date, SUM(sales.quantity * products.price) AS Revenue FROM sales INNER JOIN products ON sales.product_id = products.id GROUP BY sales.sale_date ORDER BY Revenue DESC LIMIT 1;\n"
   ]
  },
  {
   "cell_type": "code",
   "execution_count": null,
   "metadata": {},
   "outputs": [],
   "source": [
    "%sql SELECT CustomerID, SUM(Quantity * Price) AS TotalSpent FROM Sales GROUP BY CustomerID ORDER BY TotalSpent DESC LIMIT 1;\n"
   ]
  }
 ],
 "metadata": {
  "kernelspec": {
   "display_name": "data_sc_course",
   "language": "python",
   "name": "python3"
  },
  "language_info": {
   "codemirror_mode": {
    "name": "ipython",
    "version": 3
   },
   "file_extension": ".py",
   "mimetype": "text/x-python",
   "name": "python",
   "nbconvert_exporter": "python",
   "pygments_lexer": "ipython3",
   "version": "3.8.10"
  },
  "orig_nbformat": 4,
  "vscode": {
   "interpreter": {
    "hash": "3f628b2eb5aa634b30f5b85d47cd2e86516485a0fd2392559207ecf68f24a2f4"
   }
  }
 },
 "nbformat": 4,
 "nbformat_minor": 2
}
