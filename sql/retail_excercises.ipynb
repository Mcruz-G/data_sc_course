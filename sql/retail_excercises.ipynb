{
 "cells": [
  {
   "attachments": {},
   "cell_type": "markdown",
   "metadata": {},
   "source": [
    "# SQL Practice: Retail Example"
   ]
  },
  {
   "attachments": {},
   "cell_type": "markdown",
   "metadata": {},
   "source": [
    "### Today we're gonna use jupyter notebook interface to connect with a local database created by create_db_retail.py\n"
   ]
  },
  {
   "attachments": {},
   "cell_type": "markdown",
   "metadata": {},
   "source": [
    "SELECT and WHERE - Find all orders made by a specific customer. This can be done by finding all rows in the Orders table where customer_id is the id of the customer."
   ]
  },
  {
   "attachments": {},
   "cell_type": "markdown",
   "metadata": {},
   "source": [
    "Type \"%load_ext sql\" to load sql extension. This line activates the \"magic line\" jupyter's functionality. "
   ]
  },
  {
   "cell_type": "code",
   "execution_count": 1,
   "metadata": {},
   "outputs": [],
   "source": []
  },
  {
   "attachments": {},
   "cell_type": "markdown",
   "metadata": {},
   "source": [
    "Type\"%sql sqlite:/// path_to_your_database\"  to connect to your db!"
   ]
  },
  {
   "cell_type": "code",
   "execution_count": null,
   "metadata": {},
   "outputs": [],
   "source": []
  },
  {
   "attachments": {},
   "cell_type": "markdown",
   "metadata": {},
   "source": [
    "#### You have the \"Retail.db\" containing four tables in it:\n",
    "\n",
    "##### Customers - Contains customer details.\n",
    "##### Products - Contains products details.\n",
    "##### Orders - Contains order details.\n",
    "##### OrderDetails - Contains the relationship between products and orders.\n",
    "\n",
    "#### So now it's time for you to solve the following questions based on this Data Base:"
   ]
  },
  {
   "attachments": {},
   "cell_type": "markdown",
   "metadata": {},
   "source": [
    "#### 1. SELECT and WHERE:\n",
    "##### Find all orders made by a specific customer. This can be done by finding all rows in the Orders table where customer_id is the id of the customer."
   ]
  },
  {
   "cell_type": "code",
   "execution_count": null,
   "metadata": {},
   "outputs": [],
   "source": []
  },
  {
   "attachments": {},
   "cell_type": "markdown",
   "metadata": {},
   "source": [
    "#### 2. JOIN\n",
    "##### List the names and emails of customers who have bought a certain product. This would require a JOIN between the Customers, OrderDetails, and Products tables."
   ]
  },
  {
   "cell_type": "code",
   "execution_count": null,
   "metadata": {},
   "outputs": [],
   "source": []
  },
  {
   "attachments": {},
   "cell_type": "markdown",
   "metadata": {},
   "source": [
    "#### 3. GROUP BY and COUNT\n",
    "##### Find the number of orders each customer has made. This would involve grouping the Orders table by customer_id and using COUNT to count the number of orders for each customer."
   ]
  },
  {
   "cell_type": "code",
   "execution_count": null,
   "metadata": {},
   "outputs": [],
   "source": []
  },
  {
   "attachments": {},
   "cell_type": "markdown",
   "metadata": {},
   "source": [
    "#### 4. HAVING\n",
    "##### Find customers who have made more than 5 orders. This would be similar to the previous question, but with an additional HAVING clause to filter groups that have a count greater than 5."
   ]
  },
  {
   "cell_type": "code",
   "execution_count": null,
   "metadata": {},
   "outputs": [],
   "source": []
  },
  {
   "attachments": {},
   "cell_type": "markdown",
   "metadata": {},
   "source": [
    "#### 5. Subqueries\n",
    "##### Find the average order quantity of the top 5 products by total order quantity. This would involve using a subquery to first find the top 5 products by total order quantity, and then calculating the average order quantity for those products."
   ]
  },
  {
   "cell_type": "code",
   "execution_count": null,
   "metadata": {},
   "outputs": [],
   "source": []
  },
  {
   "attachments": {},
   "cell_type": "markdown",
   "metadata": {},
   "source": [
    "#### 6. MIN/MAX\n",
    "##### Determine the customer who has spent the least/most. This requires a JOIN of Orders and OrderDetails to calculate total for each order, then another JOIN with Customers to aggregate totals by customer, and finally using MIN/MAX to find the customer who spent the least/most."
   ]
  },
  {
   "cell_type": "code",
   "execution_count": null,
   "metadata": {},
   "outputs": [],
   "source": []
  },
  {
   "attachments": {},
   "cell_type": "markdown",
   "metadata": {},
   "source": [
    "#### 7. Date functions \n",
    "##### Find the number of orders made in the year 2023. This involves parsing and extracting the year from the order date in the Orders table, and then counting the number of orders."
   ]
  },
  {
   "cell_type": "code",
   "execution_count": null,
   "metadata": {},
   "outputs": [],
   "source": []
  },
  {
   "attachments": {},
   "cell_type": "markdown",
   "metadata": {},
   "source": [
    "#### 8. Aggregation functions (SUM, AVG)\n",
    "##### What's the average price of all products ordered by a specific customer? This would involve a JOIN between OrderDetails and Products to calculate total price for each order, and then using AVG to find the average price."
   ]
  },
  {
   "cell_type": "code",
   "execution_count": null,
   "metadata": {},
   "outputs": [],
   "source": []
  },
  {
   "attachments": {},
   "cell_type": "markdown",
   "metadata": {},
   "source": [
    "#### 9. UPDATE \n",
    "##### Update all products with price less than $10 to a new price. This would involve using an UPDATE query with a WHERE clause to change the price of certain products.\n"
   ]
  },
  {
   "cell_type": "code",
   "execution_count": null,
   "metadata": {},
   "outputs": [],
   "source": []
  },
  {
   "attachments": {},
   "cell_type": "markdown",
   "metadata": {},
   "source": [
    "#### 10. DELETE \n",
    "##### Delete all orders that were made before the year 2023. This would involve using a DELETE query with a WHERE clause to delete certain rows from the Orders table."
   ]
  },
  {
   "cell_type": "code",
   "execution_count": null,
   "metadata": {},
   "outputs": [],
   "source": []
  }
 ],
 "metadata": {
  "kernelspec": {
   "display_name": "data_sc_course",
   "language": "python",
   "name": "python3"
  },
  "language_info": {
   "codemirror_mode": {
    "name": "ipython",
    "version": 3
   },
   "file_extension": ".py",
   "mimetype": "text/x-python",
   "name": "python",
   "nbconvert_exporter": "python",
   "pygments_lexer": "ipython3",
   "version": "3.8.10 (default, May 26 2023, 14:05:08) \n[GCC 9.4.0]"
  },
  "orig_nbformat": 4,
  "vscode": {
   "interpreter": {
    "hash": "3f628b2eb5aa634b30f5b85d47cd2e86516485a0fd2392559207ecf68f24a2f4"
   }
  }
 },
 "nbformat": 4,
 "nbformat_minor": 2
}
