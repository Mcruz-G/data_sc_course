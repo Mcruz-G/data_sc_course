{
 "cells": [
  {
   "cell_type": "code",
   "execution_count": 1,
   "metadata": {},
   "outputs": [],
   "source": [
    "import sqlite3\n",
    "import random\n",
    "\n",
    "def create_db_stock_market():\n",
    "    # Connect to the database or create it if it doesn't exist\n",
    "    conn = sqlite3.connect('finance_database.db')\n",
    "    cursor = conn.cursor()\n",
    "\n",
    "    # Create the tables\n",
    "    cursor.execute('''\n",
    "        CREATE TABLE IF NOT EXISTS stocks (\n",
    "            id INTEGER PRIMARY KEY,\n",
    "            symbol TEXT,\n",
    "            company TEXT,\n",
    "            price REAL,\n",
    "            quantity INTEGER\n",
    "        )\n",
    "    ''')\n",
    "\n",
    "    cursor.execute('''\n",
    "        CREATE TABLE IF NOT EXISTS transactions (\n",
    "            id INTEGER PRIMARY KEY,\n",
    "            stock_id INTEGER,\n",
    "            date TEXT,\n",
    "            type TEXT,\n",
    "            price REAL,\n",
    "            quantity INTEGER,\n",
    "            FOREIGN KEY(stock_id) REFERENCES stocks(id)\n",
    "        )\n",
    "    ''')\n",
    "\n",
    "    # Generate random data for the stocks table\n",
    "    stocks = [\n",
    "        ('AAPL', 'Apple Inc.', 150.23, 100),\n",
    "        ('GOOGL', 'Alphabet Inc.', 2300.45, 50),\n",
    "        ('MSFT', 'Microsoft Corporation', 250.67, 75),\n",
    "        ('AMZN', 'Amazon.com, Inc.', 3500.12, 25),\n",
    "        ('TSLA', 'Tesla, Inc.', 600.34, 40)\n",
    "    ]\n",
    "\n",
    "    cursor.executemany('INSERT INTO stocks (symbol, company, price, quantity) VALUES (?, ?, ?, ?)', stocks)\n",
    "\n",
    "    # Generate random data for the transactions table\n",
    "    transaction_types = ['Buy', 'Sell']\n",
    "\n",
    "    for stock_id in range(1, len(stocks) + 1):\n",
    "        for _ in range(5):\n",
    "            date = f'2023-06-{random.randint(1, 30):02d}'\n",
    "            transaction_type = random.choice(transaction_types)\n",
    "            price = random.uniform(0.8, 1.2) * stocks[stock_id - 1][2]  # Random variation in price\n",
    "            quantity = random.randint(5, 20)\n",
    "            \n",
    "            cursor.execute('INSERT INTO transactions (stock_id, date, type, price, quantity) VALUES (?, ?, ?, ?, ?)',\n",
    "                        (stock_id, date, transaction_type, price, quantity))\n",
    "\n",
    "    # Commit the changes and close the connection\n",
    "    conn.commit()\n",
    "    conn.close()\n"
   ]
  },
  {
   "cell_type": "code",
   "execution_count": 4,
   "metadata": {},
   "outputs": [
    {
     "name": "stdout",
     "output_type": "stream",
     "text": [
      "The sql extension is already loaded. To reload it, use:\n",
      "  %reload_ext sql\n"
     ]
    }
   ],
   "source": [
    "%load_ext sql"
   ]
  },
  {
   "cell_type": "code",
   "execution_count": 5,
   "metadata": {},
   "outputs": [],
   "source": [
    "%sql sqlite:///finance_database.db"
   ]
  },
  {
   "cell_type": "code",
   "execution_count": 13,
   "metadata": {},
   "outputs": [
    {
     "name": "stdout",
     "output_type": "stream",
     "text": [
      " * sqlite:///finance_database.db\n",
      "Done.\n"
     ]
    },
    {
     "data": {
      "text/html": [
       "<table>\n",
       "    <thead>\n",
       "        <tr>\n",
       "            <th>symbol</th>\n",
       "            <th>total_transactions</th>\n",
       "        </tr>\n",
       "    </thead>\n",
       "    <tbody>\n",
       "        <tr>\n",
       "            <td>AAPL</td>\n",
       "            <td>10</td>\n",
       "        </tr>\n",
       "        <tr>\n",
       "            <td>AMZN</td>\n",
       "            <td>10</td>\n",
       "        </tr>\n",
       "        <tr>\n",
       "            <td>GOOGL</td>\n",
       "            <td>10</td>\n",
       "        </tr>\n",
       "        <tr>\n",
       "            <td>MSFT</td>\n",
       "            <td>10</td>\n",
       "        </tr>\n",
       "        <tr>\n",
       "            <td>TSLA</td>\n",
       "            <td>10</td>\n",
       "        </tr>\n",
       "    </tbody>\n",
       "</table>"
      ],
      "text/plain": [
       "[('AAPL', 10), ('AMZN', 10), ('GOOGL', 10), ('MSFT', 10), ('TSLA', 10)]"
      ]
     },
     "execution_count": 13,
     "metadata": {},
     "output_type": "execute_result"
    }
   ],
   "source": [
    "%sql SELECT s.symbol, COUNT(t.id) AS total_transactions FROM stocks s LEFT JOIN transactions t ON s.id = t.stock_id GROUP BY s.symbol;\n"
   ]
  }
 ],
 "metadata": {
  "kernelspec": {
   "display_name": "data_sc_course",
   "language": "python",
   "name": "python3"
  },
  "language_info": {
   "codemirror_mode": {
    "name": "ipython",
    "version": 3
   },
   "file_extension": ".py",
   "mimetype": "text/x-python",
   "name": "python",
   "nbconvert_exporter": "python",
   "pygments_lexer": "ipython3",
   "version": "3.8.10 (default, May 26 2023, 14:05:08) \n[GCC 9.4.0]"
  },
  "orig_nbformat": 4,
  "vscode": {
   "interpreter": {
    "hash": "3f628b2eb5aa634b30f5b85d47cd2e86516485a0fd2392559207ecf68f24a2f4"
   }
  }
 },
 "nbformat": 4,
 "nbformat_minor": 2
}
