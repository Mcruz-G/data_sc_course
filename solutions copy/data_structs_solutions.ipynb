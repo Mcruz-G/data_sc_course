{
 "cells": [
  {
   "attachments": {},
   "cell_type": "markdown",
   "metadata": {},
   "source": [
    "# Exercise 1: Lists\n",
    "\n",
    "In Python, a list is a collection which is ordered and changeable. It allows duplicate members. Let's start by creating a list of products sold by the company. Each product should be represented by a dictionary, containing `name`, `price`, and `category`.\n"
   ]
  },
  {
   "cell_type": "code",
   "execution_count": 2,
   "metadata": {},
   "outputs": [],
   "source": [
    "products = [\n",
    "    {\"name\": \"Laptop\", \"price\": 800.50, \"category\": \"Electronics\"},\n",
    "    {\"name\": \"Red Dress\", \"price\": 129.99, \"category\": \"Clothing\"},\n",
    "    {\"name\": \"Running Shoes\", \"price\": 65.39, \"category\": \"Clothing\"},\n",
    "    {\"name\": \"Spaghetti\", \"price\": 1.99, \"category\": \"Grocery\"},\n",
    "]\n"
   ]
  },
  {
   "attachments": {},
   "cell_type": "markdown",
   "metadata": {},
   "source": [
    "# Exercise 2: Accessing and Modifying Lists\n",
    "\n",
    "Lists are mutable. This means we can change an item's value, add new items, and delete or remove items as needed. Try adding a new product to the list, then find and modify the price of an existing product.\n"
   ]
  },
  {
   "cell_type": "code",
   "execution_count": 3,
   "metadata": {},
   "outputs": [],
   "source": [
    "# Adding a new product\n",
    "products.append({\"name\": \"iPhone\", \"price\": 999.99, \"category\": \"Electronics\"})\n",
    "\n",
    "# Modifying the price of an existing product\n",
    "for product in products:\n",
    "    if product[\"name\"] == \"Laptop\":\n",
    "        product[\"price\"] = 750.00  # New price"
   ]
  },
  {
   "cell_type": "markdown",
   "metadata": {},
   "source": [
    "# Exercise 3: List Comprehensions\n",
    "\n",
    "List comprehensions provide a concise way to create lists based on existing lists. Use a list comprehension to create a list of all products in a certain category.\n"
   ]
  },
  {
   "cell_type": "code",
   "execution_count": 4,
   "metadata": {},
   "outputs": [],
   "source": [
    "# List comprehension to get all products in the \"Clothing\" category\n",
    "clothing_products = [product for product in products if product[\"category\"] == \"Clothing\"]\n"
   ]
  },
  {
   "attachments": {},
   "cell_type": "markdown",
   "metadata": {},
   "source": [
    "# Exercise 4: Dictionaries\n",
    "\n",
    "A dictionary is a collection which is unordered, changeable and indexed. In Python dictionaries are written with curly brackets, and they have keys and values. Represent a customer as a dictionary with `name`, `email`, and `purchase_history` (a list of products).\n"
   ]
  },
  {
   "cell_type": "code",
   "execution_count": 5,
   "metadata": {},
   "outputs": [],
   "source": [
    "# Representing a customer\n",
    "customer = {\n",
    "    \"name\": \"John Doe\",\n",
    "    \"email\": \"john.doe@example.com\",\n",
    "    \"purchase_history\": []\n",
    "}\n"
   ]
  },
  {
   "attachments": {},
   "cell_type": "markdown",
   "metadata": {},
   "source": [
    "# Exercise 5: Accessing and Modifying Dictionaries\n",
    "\n",
    "Dictionaries are also mutable. You can add new items or change the value of existing items using an assignment operator. If the key is already present, then the existing value gets updated. In case the key is not present, a new (key: value) pair is added to the dictionary. Add a new purchase to a customer's purchase history, then retrieve a list of all products purchased by the customer.\n"
   ]
  },
  {
   "cell_type": "code",
   "execution_count": null,
   "metadata": {},
   "outputs": [],
   "source": [
    "# Adding a new purchase\n",
    "customer[\"purchase_history\"].append(\"Laptop\")\n",
    "\n",
    "# Retrieving purchase history\n",
    "purchased_products = customer[\"purchase_history\"]\n"
   ]
  },
  {
   "cell_type": "markdown",
   "metadata": {},
   "source": [
    "# Exercise 6: Sets\n",
    "\n",
    "A set is an unordered collection of items where every element is unique (no duplicates). Given two customers, find out which products both have purchased (the intersection of their purchase histories).\n"
   ]
  },
  {
   "cell_type": "code",
   "execution_count": null,
   "metadata": {},
   "outputs": [],
   "source": [
    "# Given two customers, find the intersection of their purchase histories.\n",
    "customer1 = {\"purchase_history\": {\"Laptop\", \"Red Dress\"}}\n",
    "customer2 = {\"purchase_history\": {\"Laptop\", \"Running Shoes\"}}\n",
    "common_purchases = customer1[\"purchase_history\"].intersection(customer2[\"purchase_history\"])\n"
   ]
  },
  {
   "cell_type": "markdown",
   "metadata": {},
   "source": [
    "# Exercise 7: Tuples\n",
    "\n",
    "A Tuple is a collection of Python objects separated by commas. In someways a tuple is similar to a list in terms of indexing, nested objects and repetition but a tuple is immutable unlike lists which are mutable. Represent a transaction as a tuple with `customer`, `product`, and `timestamp`.\n"
   ]
  },
  {
   "cell_type": "code",
   "execution_count": 1,
   "metadata": {},
   "outputs": [],
   "source": [
    "# Representing a transaction\n",
    "import datetime\n",
    "transaction = (\"John Doe\", \"Laptop\", datetime.datetime.now())\n"
   ]
  },
  {
   "attachments": {},
   "cell_type": "markdown",
   "metadata": {},
   "source": [
    "# Exercise 8: Nested Data Structures\n",
    "\n",
    "In Python, these complex data structures can be nested. This means we can have data structures within data structures. Create a dictionary that maps product categories to lists of products in that category.\n"
   ]
  },
  {
   "cell_type": "code",
   "execution_count": null,
   "metadata": {},
   "outputs": [],
   "source": [
    "# Creating a dictionary that maps product categories to lists of products in that category.\n",
    "from collections import defaultdict\n",
    "category_dict = defaultdict(list)\n",
    "\n",
    "for product in products:\n",
    "    category_dict[product[\"category\"]].append(product)\n"
   ]
  },
  {
   "cell_type": "markdown",
   "metadata": {},
   "source": [
    "# Exercise 9: Custom Data Structures (Classes)\n",
    "\n",
    "Python is an object oriented programming language. This means it uses classes to group related data and functions together. Create a `Product` class with `name`, `price`, and `category` as attributes, and a `Customer` class with `name`, `email`, and `purchase_history` as attributes. Implement a method for the `Customer` class to purchase a product.\n"
   ]
  },
  {
   "cell_type": "code",
   "execution_count": null,
   "metadata": {},
   "outputs": [],
   "source": [
    "# Creating the Product and Customer classes.\n",
    "class Product:\n",
    "    def __init__(self, name, price, category):\n",
    "        self.name = name\n",
    "        self.price = price\n",
    "        self.category = category\n",
    "\n",
    "\n",
    "class Customer:\n",
    "    def __init__(self, name, email):\n",
    "        self.name = name\n",
    "        self.email = email\n",
    "        self.purchase_history = []\n",
    "\n",
    "    def purchase(self, product):\n",
    "        self.purchase_history.append(product)\n",
    "\n",
    "\n",
    "# Creating some objects and making a purchase.\n",
    "laptop = Product(\"Laptop\", 800, \"Electronics\")\n",
    "john = Customer(\"John Doe\", \"john.doe@example.com\")\n",
    "john.purchase(laptop)\n"
   ]
  },
  {
   "attachments": {},
   "cell_type": "markdown",
   "metadata": {},
   "source": [
    "# Exercise 10: Advanced Functionality\n",
    "\n",
    "In Python, a function is a group of related statements that perform a specific task. Functions help break our program into smaller and modular chunks. Implement a function that, given a customer, returns the total amount they have spent.\n"
   ]
  },
  {
   "cell_type": "code",
   "execution_count": 2,
   "metadata": {},
   "outputs": [],
   "source": [
    "# Implementing the function to calculate the total amount spent by a customer.\n",
    "def total_spent(customer):\n",
    "    return sum(product.price for product in customer.purchase_history)\n"
   ]
  }
 ],
 "metadata": {
  "kernelspec": {
   "display_name": "data_sc_course",
   "language": "python",
   "name": "python3"
  },
  "language_info": {
   "codemirror_mode": {
    "name": "ipython",
    "version": 3
   },
   "file_extension": ".py",
   "mimetype": "text/x-python",
   "name": "python",
   "nbconvert_exporter": "python",
   "pygments_lexer": "ipython3",
   "version": "3.8.10 (default, May 26 2023, 14:05:08) \n[GCC 9.4.0]"
  },
  "orig_nbformat": 4,
  "vscode": {
   "interpreter": {
    "hash": "3f628b2eb5aa634b30f5b85d47cd2e86516485a0fd2392559207ecf68f24a2f4"
   }
  }
 },
 "nbformat": 4,
 "nbformat_minor": 2
}
