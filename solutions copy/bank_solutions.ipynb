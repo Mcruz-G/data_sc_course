{
 "cells": [
  {
   "cell_type": "markdown",
   "metadata": {},
   "source": [
    "# Python Object-Oriented Programming (OOP) Exercise: The Bank Scenario (Solutions)\n",
    "\n",
    "This notebook provides solutions to the OOP exercise, where we aim to construct a simplified model of a banking system. \n",
    "\n",
    "The exercise covers several fundamental concepts of Object-Oriented Programming (OOP), including:\n",
    "\n",
    "1. **Classes and Instances**\n",
    "2. **Attributes and Methods**\n",
    "3. **Encapsulation**\n",
    "4. **Inheritance**\n"
   ]
  },
  {
   "cell_type": "markdown",
   "metadata": {},
   "source": [
    "## Exercise 1 & 2: Defining a Class, its Attributes and Methods\n",
    "\n",
    "The BankAccount class is defined with `owner` and `balance` as its attributes. We also added `deposit` and `withdraw` methods to this class.\n"
   ]
  },
  {
   "cell_type": "code",
   "execution_count": 1,
   "metadata": {},
   "outputs": [],
   "source": [
    "class BankAccount:\n",
    "    def __init__(self, owner, balance=0):\n",
    "        self.owner = owner\n",
    "        self.balance = balance\n",
    "\n",
    "    def deposit(self, amount):\n",
    "        self.balance += amount\n",
    "        print(f\"New balance for {self.owner}: {self.balance}\")\n",
    "\n",
    "    def withdraw(self, amount):\n",
    "        if self.balance >= amount:\n",
    "            self.balance -= amount\n",
    "            print(f\"New balance for {self.owner}: {self.balance}\")\n",
    "        else:\n",
    "            print(\"Not enough balance.\")\n"
   ]
  },
  {
   "cell_type": "markdown",
   "metadata": {},
   "source": [
    "## Exercise 3: Creating an Instance of the Class and Using its Methods\n",
    "\n",
    "An account for 'John' is created. A deposit and a withdrawal from John's account are made.\n"
   ]
  },
  {
   "cell_type": "code",
   "execution_count": 2,
   "metadata": {},
   "outputs": [
    {
     "name": "stdout",
     "output_type": "stream",
     "text": [
      "New balance for John: 700\n",
      "New balance for John: 400\n"
     ]
    }
   ],
   "source": [
    "john_account = BankAccount('John', 500)\n",
    "john_account.deposit(200)\n",
    "john_account.withdraw(300)\n"
   ]
  },
  {
   "cell_type": "markdown",
   "metadata": {},
   "source": [
    "## Exercise 4 & 5: Creating a New Class and Using its Methods\n",
    "\n",
    "A `Bank` class that manages multiple bank accounts is created. A bank is created and accounts for John and Jane are added.\n"
   ]
  },
  {
   "cell_type": "code",
   "execution_count": 3,
   "metadata": {},
   "outputs": [],
   "source": [
    "class Bank:\n",
    "    def __init__(self):\n",
    "        self.accounts = []\n",
    "\n",
    "    def add_account(self, account):\n",
    "        self.accounts.append(account)\n",
    "\n",
    "    def remove_account(self, account):\n",
    "        self.accounts.remove(account)\n",
    "\n",
    "my_bank = Bank()\n",
    "my_bank.add_account(john_account)\n",
    "\n",
    "jane_account = BankAccount('Jane', 1000)\n",
    "my_bank.add_account(jane_account)\n"
   ]
  },
  {
   "cell_type": "markdown",
   "metadata": {},
   "source": [
    "## Exercise 6: Adding More Attributes to the BankAccount Class\n",
    "\n",
    "The BankAccount class is now equipped with an `overdraft_protection` attribute.\n"
   ]
  },
  {
   "cell_type": "code",
   "execution_count": 4,
   "metadata": {},
   "outputs": [],
   "source": [
    "class BankAccount:\n",
    "    def __init__(self, owner, balance=0, overdraft_protection=False):\n",
    "        self.owner = owner\n",
    "        self.balance = balance\n",
    "        self.overdraft_protection = overdraft_protection\n",
    "\n",
    "    def deposit(self, amount):\n",
    "        self.balance += amount\n",
    "        print(f\"New balance for {self.owner}: {self.balance}\")\n",
    "\n",
    "    def withdraw(self, amount):\n",
    "        if self.balance >= amount:\n",
    "            self.balance -= amount\n",
    "            print(f\"New balance for {self.owner}: {self.balance}\")\n",
    "        elif self.overdraft_protection:\n",
    "            self.balance -= amount + 20\n",
    "            print(f\"New balance for {self.owner}: {self.balance}\")\n",
    "        else:\n",
    "            print(\"Not enough balance.\")\n"
   ]
  },
  {
   "cell_type": "markdown",
   "metadata": {},
   "source": [
    "## Exercise 7 & 8: Inheritance, Creating Subclasses and Using their Methods\n",
    "\n",
    "A subclass `SavingsAccount` is created from the `BankAccount` class. A `SavingsAccount` for Emma is created, added to our bank, and the interest is applied.\n"
   ]
  },
  {
   "cell_type": "code",
   "execution_count": 16,
   "metadata": {},
   "outputs": [
    {
     "name": "stdout",
     "output_type": "stream",
     "text": [
      "New balance for Emma after interest: 510.0\n"
     ]
    }
   ],
   "source": [
    "class SavingsAccount(BankAccount):\n",
    "    def __init__(self, owner, balance=0, interest_rate=0):\n",
    "        super().__init__(owner, balance)\n",
    "        self.interest_rate = interest_rate\n",
    "\n",
    "    def apply_interest(self):\n",
    "        self.balance += self.balance * self.interest_rate\n",
    "        print(f\"New balance for {self.owner} after interest: {self.balance}\")\n",
    "\n",
    "emma_account = SavingsAccount('Emma', 500, 0.02)\n",
    "my_bank.add_account(emma_account)\n",
    "\n",
    "emma_account.apply_interest()\n"
   ]
  }
 ],
 "metadata": {
  "kernelspec": {
   "display_name": "Python 3",
   "language": "python",
   "name": "python3"
  },
  "language_info": {
   "codemirror_mode": {
    "name": "ipython",
    "version": 3
   },
   "file_extension": ".py",
   "mimetype": "text/x-python",
   "name": "python",
   "nbconvert_exporter": "python",
   "pygments_lexer": "ipython3",
   "version": "3.9.5"
  },
  "orig_nbformat": 4,
  "vscode": {
   "interpreter": {
    "hash": "f9f85f796d01129d0dd105a088854619f454435301f6ffec2fea96ecbd9be4ac"
   }
  }
 },
 "nbformat": 4,
 "nbformat_minor": 2
}
