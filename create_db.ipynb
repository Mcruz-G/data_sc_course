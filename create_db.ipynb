{
 "cells": [
  {
   "cell_type": "code",
   "execution_count": 23,
   "metadata": {},
   "outputs": [
    {
     "name": "stdout",
     "output_type": "stream",
     "text": [
      "2.6.0\n"
     ]
    }
   ],
   "source": [
    "import sqlite3\n",
    "from sqlite3 import Error\n",
    "import random\n",
    "import faker\n",
    "\n",
    "# Initialize faker generator\n",
    "fake = faker.Faker()\n",
    "\n",
    "def create_connection():\n",
    "    conn = None;\n",
    "    try:\n",
    "        conn = sqlite3.connect('Retail.db') # creates a SQLite database named Retail.db\n",
    "        print(sqlite3.version)\n",
    "    except Error as e:\n",
    "        print(e)\n",
    "    \n",
    "    if conn:\n",
    "        return conn\n",
    "\n",
    "def create_table(conn, create_table_sql):\n",
    "    try:\n",
    "        c = conn.cursor()\n",
    "        c.execute(create_table_sql)\n",
    "    except Error as e:\n",
    "        print(e)\n",
    "\n",
    "def create_database():\n",
    "    database = r\"Retail.db\"\n",
    " \n",
    "    sql_create_customers_table = \"\"\" CREATE TABLE IF NOT EXISTS Customers (\n",
    "                                        id integer PRIMARY KEY,\n",
    "                                        name text NOT NULL,\n",
    "                                        email text NOT NULL\n",
    "                                    ); \"\"\"\n",
    "\n",
    "    sql_create_products_table = \"\"\" CREATE TABLE IF NOT EXISTS Products (\n",
    "                                    id integer PRIMARY KEY,\n",
    "                                    name text NOT NULL,\n",
    "                                    price real NOT NULL\n",
    "                                );\"\"\"\n",
    "\n",
    "    sql_create_orders_table = \"\"\" CREATE TABLE IF NOT EXISTS Orders (\n",
    "                                    id integer PRIMARY KEY,\n",
    "                                    customer_id integer NOT NULL,\n",
    "                                    date text NOT NULL,\n",
    "                                    FOREIGN KEY (customer_id) REFERENCES Customers (id)\n",
    "                                );\"\"\"\n",
    "\n",
    "    sql_create_orderDetails_table = \"\"\" CREATE TABLE IF NOT EXISTS OrderDetails (\n",
    "                                        order_id integer NOT NULL,\n",
    "                                        product_id integer NOT NULL,\n",
    "                                        quantity integer NOT NULL,\n",
    "                                        FOREIGN KEY (order_id) REFERENCES Orders (id),\n",
    "                                        FOREIGN KEY (product_id) REFERENCES Products (id)\n",
    "                                    );\"\"\"\n",
    "\n",
    "    # create a database connection\n",
    "    conn = create_connection()\n",
    "\n",
    "    # create tables\n",
    "    if conn is not None:\n",
    "        # create customers table\n",
    "        create_table(conn, sql_create_customers_table)\n",
    "\n",
    "        # create products table\n",
    "        create_table(conn, sql_create_products_table)\n",
    "\n",
    "        # create orders table\n",
    "        create_table(conn, sql_create_orders_table)\n",
    "\n",
    "        # create order details table\n",
    "        create_table(conn, sql_create_orderDetails_table)\n",
    "    else:\n",
    "        print(\"Error! cannot create the database connection.\")\n",
    "        \n",
    "    return conn\n",
    "\n",
    "\n",
    "def main():\n",
    "\n",
    "    conn = create_database()\n",
    "\n",
    "    # insert random data into the tables\n",
    "    for _ in range(1000):\n",
    "        # insert into Customers table\n",
    "        conn.execute(\"INSERT INTO Customers(name, email) VALUES(?,?)\", (fake.name(), fake.email()))\n",
    "        \n",
    "        # insert into Products table\n",
    "        conn.execute(\"INSERT INTO Products(name, price) VALUES(?,?)\", (fake.catch_phrase(), round(random.uniform(10.5, 200.5), 2)))\n",
    "        \n",
    "        # insert into Orders table\n",
    "        conn.execute(\"INSERT INTO Orders(customer_id, date) VALUES(?,?)\", (random.randint(1,1000), fake.date()))\n",
    "        \n",
    "        # insert into OrderDetails table\n",
    "        conn.execute(\"INSERT INTO OrderDetails(order_id, product_id, quantity) VALUES(?,?,?)\", (random.randint(1,1000), random.randint(1,1000), random.randint(1,10)))\n",
    "\n",
    "    conn.commit()\n",
    "\n",
    "if __name__ == '__main__':\n",
    "    main()\n",
    "\n"
   ]
  },
  {
   "cell_type": "code",
   "execution_count": 24,
   "metadata": {},
   "outputs": [
    {
     "name": "stdout",
     "output_type": "stream",
     "text": [
      "The sql extension is already loaded. To reload it, use:\n",
      "  %reload_ext sql\n"
     ]
    }
   ],
   "source": [
    "%load_ext sql\n"
   ]
  },
  {
   "cell_type": "code",
   "execution_count": 33,
   "metadata": {},
   "outputs": [],
   "source": [
    "%sql sqlite:///Retail.db"
   ]
  },
  {
   "cell_type": "code",
   "execution_count": 34,
   "metadata": {},
   "outputs": [
    {
     "name": "stdout",
     "output_type": "stream",
     "text": [
      "   sqlite:///Retail\n",
      " * sqlite:///Retail.db\n",
      "Done.\n"
     ]
    },
    {
     "data": {
      "text/html": [
       "<table>\n",
       "    <thead>\n",
       "        <tr>\n",
       "            <th>id</th>\n",
       "            <th>customer_id</th>\n",
       "            <th>date</th>\n",
       "        </tr>\n",
       "    </thead>\n",
       "    <tbody>\n",
       "        <tr>\n",
       "            <td>1</td>\n",
       "            <td>278</td>\n",
       "            <td>1988-02-14</td>\n",
       "        </tr>\n",
       "        <tr>\n",
       "            <td>2</td>\n",
       "            <td>552</td>\n",
       "            <td>1974-11-24</td>\n",
       "        </tr>\n",
       "        <tr>\n",
       "            <td>3</td>\n",
       "            <td>107</td>\n",
       "            <td>1976-05-25</td>\n",
       "        </tr>\n",
       "        <tr>\n",
       "            <td>4</td>\n",
       "            <td>849</td>\n",
       "            <td>2015-03-28</td>\n",
       "        </tr>\n",
       "        <tr>\n",
       "            <td>5</td>\n",
       "            <td>334</td>\n",
       "            <td>2009-01-17</td>\n",
       "        </tr>\n",
       "        <tr>\n",
       "            <td>6</td>\n",
       "            <td>427</td>\n",
       "            <td>2007-04-21</td>\n",
       "        </tr>\n",
       "        <tr>\n",
       "            <td>7</td>\n",
       "            <td>119</td>\n",
       "            <td>2016-07-27</td>\n",
       "        </tr>\n",
       "        <tr>\n",
       "            <td>8</td>\n",
       "            <td>52</td>\n",
       "            <td>1997-04-19</td>\n",
       "        </tr>\n",
       "        <tr>\n",
       "            <td>9</td>\n",
       "            <td>508</td>\n",
       "            <td>2022-01-02</td>\n",
       "        </tr>\n",
       "        <tr>\n",
       "            <td>10</td>\n",
       "            <td>907</td>\n",
       "            <td>1996-01-02</td>\n",
       "        </tr>\n",
       "    </tbody>\n",
       "</table>"
      ],
      "text/plain": [
       "[(1, 278, '1988-02-14'),\n",
       " (2, 552, '1974-11-24'),\n",
       " (3, 107, '1976-05-25'),\n",
       " (4, 849, '2015-03-28'),\n",
       " (5, 334, '2009-01-17'),\n",
       " (6, 427, '2007-04-21'),\n",
       " (7, 119, '2016-07-27'),\n",
       " (8, 52, '1997-04-19'),\n",
       " (9, 508, '2022-01-02'),\n",
       " (10, 907, '1996-01-02')]"
      ]
     },
     "execution_count": 34,
     "metadata": {},
     "output_type": "execute_result"
    }
   ],
   "source": [
    "%sql SELECT * FROM Orders limit 10"
   ]
  },
  {
   "cell_type": "code",
   "execution_count": 47,
   "metadata": {},
   "outputs": [
    {
     "name": "stdout",
     "output_type": "stream",
     "text": [
      "   sqlite:///Retail\n",
      " * sqlite:///Retail.db\n",
      "(sqlite3.OperationalError) no such table: Sales\n",
      "[SQL: SELECT CustomerID, SUM(Quantity * Price) AS TotalSpent FROM Sales GROUP BY CustomerID ORDER BY TotalSpent DESC LIMIT 1;]\n",
      "(Background on this error at: https://sqlalche.me/e/20/e3q8)\n"
     ]
    }
   ],
   "source": [
    "%sql SELECT CustomerID, SUM(Quantity * Price) AS TotalSpent FROM Sales GROUP BY CustomerID ORDER BY TotalSpent DESC LIMIT 1;\n"
   ]
  }
 ],
 "metadata": {
  "kernelspec": {
   "display_name": "data_sc_course",
   "language": "python",
   "name": "python3"
  },
  "language_info": {
   "codemirror_mode": {
    "name": "ipython",
    "version": 3
   },
   "file_extension": ".py",
   "mimetype": "text/x-python",
   "name": "python",
   "nbconvert_exporter": "python",
   "pygments_lexer": "ipython3",
   "version": "3.8.10"
  },
  "orig_nbformat": 4,
  "vscode": {
   "interpreter": {
    "hash": "3f628b2eb5aa634b30f5b85d47cd2e86516485a0fd2392559207ecf68f24a2f4"
   }
  }
 },
 "nbformat": 4,
 "nbformat_minor": 2
}
