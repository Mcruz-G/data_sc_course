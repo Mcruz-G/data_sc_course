{
 "cells": [
  {
   "attachments": {},
   "cell_type": "markdown",
   "metadata": {},
   "source": [
    "# Python Object-Oriented Programming (OOP) Exercise: The Bank Scenario\n",
    "\n",
    "Hello Armando\n",
    "\n",
    "Welcome to this exciting Python OOP exercise! Today, we are embarking on a journey to construct a simplified model of a banking system. As we go through the tasks, you will have the opportunity to create classes representing bank accounts and banks, simulate transactions, and even design an inheritance structure for different account types. \n",
    "\n",
    "This exercise covers several fundamental concepts of Object-Oriented Programming (OOP), including:\n",
    "\n",
    "1. **Classes and Instances**: You will define a blueprint (class) for a bank account and create instances of accounts for different individuals.\n",
    "\n",
    "2. **Attributes and Methods**: The bank account class will have attributes (like owner name and balance) and methods to modify these attributes (like deposit and withdraw).\n",
    "\n",
    "3. **Encapsulation**: By defining methods within our classes, we control how the attributes can be modified and accessed, encapsulating the inner workings of our objects.\n",
    "\n",
    "4. **Inheritance**: You will create a subclass (SavingsAccount) that will inherit from the BankAccount class, allowing code reuse and the creation of more specialized classes based on a general one.\n",
    "\n",
    "Remember, the code snippets provided here have some blanks (`_____`). Your task is to fill in these blanks and complete the code. You can always refer back to your notes or use online resources if you're stuck. Take it one step at a time, think critically, and don't be afraid to make mistakes. That's how we learn!\n",
    "\n",
    "Happy coding and enjoy your banking adventure!\n"
   ]
  },
  {
   "attachments": {},
   "cell_type": "markdown",
   "metadata": {},
   "source": [
    "## Exercise 1 & 2: Defining a Class, its Attributes and Methods\n",
    "\n",
    "Your first task is to define a BankAccount class with `owner` and `balance` as its attributes. Additionally, you'll equip the class with some methods. Define the `deposit` and `withdraw` methods.\n"
   ]
  },
  {
   "cell_type": "code",
   "execution_count": null,
   "metadata": {},
   "outputs": [],
   "source": [
    "class BankAccount:\n",
    "    def __init__(self, _____, balance=0):\n",
    "        self._____ = _____\n",
    "        self.balance = _____\n",
    "\n",
    "    def deposit(self, _____):\n",
    "        self.balance += _____\n",
    "        print(f\"New balance for {self.owner}: {self.balance}\")\n",
    "\n",
    "    def withdraw(self, _____):\n",
    "        if self.balance >= _____:\n",
    "            self.balance -= _____\n",
    "            print(f\"New balance for {self.owner}: {self.balance}\")\n",
    "        else:\n",
    "            print(\"Not enough balance.\")\n"
   ]
  },
  {
   "attachments": {},
   "cell_type": "markdown",
   "metadata": {},
   "source": [
    "## Exercise 3: Creating an Instance of the Class and Using its Methods\n",
    "\n",
    "Now that our BankAccount class has been defined, let's create an account for 'John'. Once that's done, make a deposit and a withdrawal from John's account.\n"
   ]
  },
  {
   "cell_type": "code",
   "execution_count": null,
   "metadata": {},
   "outputs": [],
   "source": [
    "john_account = BankAccount('John', _____)\n",
    "john_account.deposit(_____)\n",
    "john_account.withdraw(_____)\n"
   ]
  },
  {
   "attachments": {},
   "cell_type": "markdown",
   "metadata": {},
   "source": [
    "## Exercise 4 & 5: Creating a New Class and Using its Methods\n",
    "\n",
    "Let's step up our game! We're going to create a new class `Bank` that will manage multiple bank accounts. Then, create a bank and add accounts for John and Jane.\n"
   ]
  },
  {
   "cell_type": "code",
   "execution_count": null,
   "metadata": {},
   "outputs": [],
   "source": [
    "class Bank:\n",
    "    def __init__(self):\n",
    "        self.accounts = _____\n",
    "\n",
    "    def add_account(self, _____):\n",
    "        self.accounts.append(_____)\n",
    "\n",
    "    def remove_account(self, _____):\n",
    "        self.accounts.remove(_____)\n",
    "\n",
    "my_bank = Bank()\n",
    "my_bank.add_account(_____)\n",
    "\n",
    "jane_account = BankAccount('Jane', _____)\n",
    "my_bank.add_account(_____)\n"
   ]
  },
  {
   "cell_type": "markdown",
   "metadata": {},
   "source": [
    "## Exercise 6: Adding More Attributes to the BankAccount Class\n",
    "\n",
    "To make our BankAccount class more complex, let's add an `overdraft_protection` attribute.\n"
   ]
  },
  {
   "cell_type": "code",
   "execution_count": null,
   "metadata": {},
   "outputs": [],
   "source": [
    "class BankAccount:\n",
    "    def __init__(self, owner, balance=0, overdraft_protection=False):\n",
    "        self._____ = _____\n",
    "        self._____ = _____\n",
    "        self._____ = _____\n",
    "\n",
    "    def deposit(self, _____):\n",
    "        self.balance += _____\n",
    "        print(f\"New balance for {self.owner}: {self.balance}\")\n",
    "\n",
    "    def withdraw(self, _____):\n",
    "        if self.balance >= _____:\n",
    "            self.balance -= _____\n",
    "            print(f\"New balance for {self.owner}: {self.balance}\")\n",
    "        elif self._____:\n",
    "            self.balance -= _____ + 20\n",
    "            print(f\"New balance for {self.owner}: {self.balance}\")\n",
    "        else:\n",
    "            print(\"Not enough balance.\")\n"
   ]
  },
  {
   "attachments": {},
   "cell_type": "markdown",
   "metadata": {},
   "source": [
    "## Exercise 7 & 8: Inheritance, Creating Subclasses and Using their Methods\n",
    "\n",
    "For the final tasks, you will practice the concept of inheritance by creating a subclass `SavingsAccount` from the `BankAccount` class. Afterward, create a `SavingsAccount` for Emma, add it to our bank, and apply the interest.\n"
   ]
  },
  {
   "cell_type": "code",
   "execution_count": null,
   "metadata": {},
   "outputs": [],
   "source": [
    "class SavingsAccount(_____):\n",
    "    def __init__(self, owner, balance=0, interest_rate=0):\n",
    "        super()._____(owner, balance)\n",
    "        self.interest_rate = _____\n",
    "\n",
    "    def apply_interest(self):\n",
    "        self.balance += self.balance * self._____\n",
    "        print(f\"New balance for {self.owner} after interest: {self.balance}\")\n",
    "\n",
    "emma_account = SavingsAccount('Emma', 500, 0.02)\n",
    "my_bank.add_account(_____)\n",
    "\n",
    "emma_account.apply_interest()\n"
   ]
  },
  {
   "cell_type": "markdown",
   "metadata": {},
   "source": [
    "# Introduction to Tkinter for GUI Programming\n",
    "\n",
    "Congratulations! You've made it far with the bank system exercise. Now we're stepping into an exciting area of Python programming - creating graphical user interfaces (GUIs). Python provides a built-in library for creating simple GUIs - `Tkinter`.\n",
    "\n",
    "## What is Tkinter?\n",
    "\n",
    "`Tkinter` is the standard GUI library for Python. It is easy to use, robust, and provides a simple way to create windows, dialogs, buttons, and other GUI elements in your Python programs.\n",
    "\n",
    "## How Does Tkinter Work?\n",
    "\n",
    "At a high level, a Tkinter application will usually start by initializing a `Tk` root widget (window), then adding other widgets (buttons, textboxes, labels, etc.) to it. Each widget has various options and methods that you can configure depending on what you want the widget to look like and how you want it to behave.\n",
    "\n",
    "Here is a quick example of a simple `Tkinter` application:\n",
    "\n",
    "```python\n",
    "import tkinter as tk\n",
    "\n",
    "root = tk.Tk()  # Creates the main window\n",
    "label = tk.Label(root, text=\"Hello, Tkinter!\")  # Creates a label widget\n",
    "label.pack()  # Adds the label to the window\n",
    "root.mainloop()  # Starts the application's main loop\n"
   ]
  },
  {
   "attachments": {},
   "cell_type": "markdown",
   "metadata": {},
   "source": [
    "In this code:\n",
    "\n",
    "1. root = tk.Tk() creates the main application window.\n",
    "2. label = tk.Label(root, text=\"Hello, Tkinter!\") creates a new label widget that is a child of the root window, with the text \"Hello, Tkinter!\"\n",
    "3. label.pack() adds the label to the window. The pack method is one of several ways to dictate where in the window a widget will go.\n",
    "4. root.mainloop() starts the application's main loop, which waits for user events (like button presses, mouse clicks, or key presses)."
   ]
  },
  {
   "cell_type": "markdown",
   "metadata": {},
   "source": [
    "#### Your Task\n",
    "Your task is to take the code we've been developing in the Jupyter Notebook for the bank system and convert it into a Tkinter application. You'll need to think about what widgets you want to use and how you want to layout your application. For example, you could have buttons for depositing and withdrawing from an account, and a label to display the current balance. When a button is pressed, a function in your program should be called to perform the corresponding action (deposit, withdraw) on the bank account, and then update the balance display.\n",
    "\n",
    "This task will challenge you to apply everything you've learned so far, as well as learn new things about GUI programming. Don't worry if it's a bit tough at first - that's normal when learning something new. Just take it one step at a time, and don't hesitate to look up the Tkinter documentation or other resources if you get stuck. Remember, the goal is not just to write code, but to learn and understand.\n",
    "\n",
    "Good luck, and have fun!"
   ]
  }
 ],
 "metadata": {
  "kernelspec": {
   "display_name": "Python 3",
   "language": "python",
   "name": "python3"
  },
  "language_info": {
   "codemirror_mode": {
    "name": "ipython",
    "version": 3
   },
   "file_extension": ".py",
   "mimetype": "text/x-python",
   "name": "python",
   "nbconvert_exporter": "python",
   "pygments_lexer": "ipython3",
   "version": "3.9.5"
  },
  "orig_nbformat": 4,
  "vscode": {
   "interpreter": {
    "hash": "f9f85f796d01129d0dd105a088854619f454435301f6ffec2fea96ecbd9be4ac"
   }
  }
 },
 "nbformat": 4,
 "nbformat_minor": 2
}
