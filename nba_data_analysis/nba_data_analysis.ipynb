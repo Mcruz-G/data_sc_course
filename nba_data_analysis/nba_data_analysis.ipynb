{
 "cells": [
  {
   "attachments": {},
   "cell_type": "markdown",
   "metadata": {},
   "source": [
    "# NBA Data Analysis.\n",
    "\n",
    "Hello Armando\n",
    "\n",
    "Welcome to this exciting Data Science Excercise. We will be using the NBA data to perform some analysis and our imagination to create some interesting applications.  \n",
    "\n",
    "This exercise covers several fundamental concepts, including:\n",
    "\n",
    "1. **API Usage**: You will use an API to retrieve data from a remote server. We will go through the process of reading the docs, figuring out wth is going on and using the API to retrieve data.\n",
    "\n",
    "2. **SQL**: You will use SQL to build a database consisting on some tables. You will relate these to build your dataset according to the way we are modeling the problem and how we will build inferences from it.\n",
    "\n",
    "3. **Exploratory Data Analaysis**: We will use NBA historical data to infer information from the past.\n",
    "\n",
    "4. **Hands-On Machine Learning**: We will implement some of the basic ML techniques, such as Random Walk Analysis, time series prediction and regression. You're lucky, for this time we will first go through the implementation and next class we will explore the theory of these models.\n",
    "\n",
    "5. **Data Visualization**: We will use some of the most popular libraries to visualize our data and results.\n",
    "\n",
    "6. **Streamlit Development**: We will use Streamlit to create a web app that will allow us to interact with our data and models.\n",
    "\n",
    "Happy coding and enjoy your banking adventure!\n"
   ]
  },
  {
   "attachments": {},
   "cell_type": "markdown",
   "metadata": {},
   "source": [
    "# API Usage\n",
    "\n"
   ]
  },
  {
   "cell_type": "code",
   "execution_count": null,
   "metadata": {},
   "outputs": [],
   "source": []
  }
 ],
 "metadata": {
  "kernelspec": {
   "display_name": "Python 3",
   "language": "python",
   "name": "python3"
  },
  "language_info": {
   "name": "python",
   "version": "3.9.5 (default, Nov 23 2021, 15:27:38) \n[GCC 9.3.0]"
  },
  "orig_nbformat": 4,
  "vscode": {
   "interpreter": {
    "hash": "f9f85f796d01129d0dd105a088854619f454435301f6ffec2fea96ecbd9be4ac"
   }
  }
 },
 "nbformat": 4,
 "nbformat_minor": 2
}
